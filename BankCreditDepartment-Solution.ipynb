{
 "cells": [
  {
   "cell_type": "code",
   "execution_count": 3,
   "metadata": {},
   "outputs": [],
   "source": [
    "import pandas as pd\n",
    "import sklearn as sk\n",
    "import numpy as np\n",
    "import seaborn as sns\n",
    "import matplotlib.pyplot as plt\n",
    "import missingno as msno\n",
    "import graphviz \n",
    "import pickle \n",
    "%matplotlib inline"
   ]
  },
  {
   "cell_type": "code",
   "execution_count": 4,
   "metadata": {},
   "outputs": [],
   "source": [
    "# The dataset we want to use originates from Kaggle. \n",
    "# \"The consumer credit department of a bank wants to automate the decisionmaking process for approval of \n",
    "#  home equity lines of credit.\"\n",
    "# \"The TARGET variable is a flag. \n",
    "#  If the value is a \"1\" then the person defaulted on the loan. \n",
    "#  If the value is a \"0\" then the person paid back the loan.\"\n",
    "# AIM: Develop a model to predict whether a customer will default on a loan.\n",
    "# The dataset can be downloaded at:\n",
    "# https://www.kaggle.com/ajay1735/hmeq-data/download"
   ]
  },
  {
   "cell_type": "code",
   "execution_count": 6,
   "metadata": {},
   "outputs": [
    {
     "data": {
      "text/html": [
       "<div>\n",
       "<style scoped>\n",
       "    .dataframe tbody tr th:only-of-type {\n",
       "        vertical-align: middle;\n",
       "    }\n",
       "\n",
       "    .dataframe tbody tr th {\n",
       "        vertical-align: top;\n",
       "    }\n",
       "\n",
       "    .dataframe thead th {\n",
       "        text-align: right;\n",
       "    }\n",
       "</style>\n",
       "<table border=\"1\" class=\"dataframe\">\n",
       "  <thead>\n",
       "    <tr style=\"text-align: right;\">\n",
       "      <th></th>\n",
       "      <th>BAD</th>\n",
       "      <th>LOAN</th>\n",
       "      <th>MORTDUE</th>\n",
       "      <th>VALUE</th>\n",
       "      <th>REASON</th>\n",
       "      <th>JOB</th>\n",
       "      <th>YOJ</th>\n",
       "      <th>DEROG</th>\n",
       "      <th>DELINQ</th>\n",
       "      <th>CLAGE</th>\n",
       "      <th>NINQ</th>\n",
       "      <th>CLNO</th>\n",
       "      <th>DEBTINC</th>\n",
       "    </tr>\n",
       "  </thead>\n",
       "  <tbody>\n",
       "    <tr>\n",
       "      <th>0</th>\n",
       "      <td>1</td>\n",
       "      <td>1100</td>\n",
       "      <td>25860.0</td>\n",
       "      <td>39025.0</td>\n",
       "      <td>HomeImp</td>\n",
       "      <td>Other</td>\n",
       "      <td>10.5</td>\n",
       "      <td>0.0</td>\n",
       "      <td>0.0</td>\n",
       "      <td>94.366667</td>\n",
       "      <td>1.0</td>\n",
       "      <td>9.0</td>\n",
       "      <td>NaN</td>\n",
       "    </tr>\n",
       "    <tr>\n",
       "      <th>1</th>\n",
       "      <td>1</td>\n",
       "      <td>1300</td>\n",
       "      <td>70053.0</td>\n",
       "      <td>68400.0</td>\n",
       "      <td>HomeImp</td>\n",
       "      <td>Other</td>\n",
       "      <td>7.0</td>\n",
       "      <td>0.0</td>\n",
       "      <td>2.0</td>\n",
       "      <td>121.833333</td>\n",
       "      <td>0.0</td>\n",
       "      <td>14.0</td>\n",
       "      <td>NaN</td>\n",
       "    </tr>\n",
       "    <tr>\n",
       "      <th>2</th>\n",
       "      <td>1</td>\n",
       "      <td>1500</td>\n",
       "      <td>13500.0</td>\n",
       "      <td>16700.0</td>\n",
       "      <td>HomeImp</td>\n",
       "      <td>Other</td>\n",
       "      <td>4.0</td>\n",
       "      <td>0.0</td>\n",
       "      <td>0.0</td>\n",
       "      <td>149.466667</td>\n",
       "      <td>1.0</td>\n",
       "      <td>10.0</td>\n",
       "      <td>NaN</td>\n",
       "    </tr>\n",
       "    <tr>\n",
       "      <th>3</th>\n",
       "      <td>1</td>\n",
       "      <td>1500</td>\n",
       "      <td>NaN</td>\n",
       "      <td>NaN</td>\n",
       "      <td>NaN</td>\n",
       "      <td>NaN</td>\n",
       "      <td>NaN</td>\n",
       "      <td>NaN</td>\n",
       "      <td>NaN</td>\n",
       "      <td>NaN</td>\n",
       "      <td>NaN</td>\n",
       "      <td>NaN</td>\n",
       "      <td>NaN</td>\n",
       "    </tr>\n",
       "    <tr>\n",
       "      <th>4</th>\n",
       "      <td>0</td>\n",
       "      <td>1700</td>\n",
       "      <td>97800.0</td>\n",
       "      <td>112000.0</td>\n",
       "      <td>HomeImp</td>\n",
       "      <td>Office</td>\n",
       "      <td>3.0</td>\n",
       "      <td>0.0</td>\n",
       "      <td>0.0</td>\n",
       "      <td>93.333333</td>\n",
       "      <td>0.0</td>\n",
       "      <td>14.0</td>\n",
       "      <td>NaN</td>\n",
       "    </tr>\n",
       "  </tbody>\n",
       "</table>\n",
       "</div>"
      ],
      "text/plain": [
       "   BAD  LOAN  MORTDUE     VALUE   REASON     JOB   YOJ  DEROG  DELINQ  \\\n",
       "0    1  1100  25860.0   39025.0  HomeImp   Other  10.5    0.0     0.0   \n",
       "1    1  1300  70053.0   68400.0  HomeImp   Other   7.0    0.0     2.0   \n",
       "2    1  1500  13500.0   16700.0  HomeImp   Other   4.0    0.0     0.0   \n",
       "3    1  1500      NaN       NaN      NaN     NaN   NaN    NaN     NaN   \n",
       "4    0  1700  97800.0  112000.0  HomeImp  Office   3.0    0.0     0.0   \n",
       "\n",
       "        CLAGE  NINQ  CLNO  DEBTINC  \n",
       "0   94.366667   1.0   9.0      NaN  \n",
       "1  121.833333   0.0  14.0      NaN  \n",
       "2  149.466667   1.0  10.0      NaN  \n",
       "3         NaN   NaN   NaN      NaN  \n",
       "4   93.333333   0.0  14.0      NaN  "
      ]
     },
     "execution_count": 6,
     "metadata": {},
     "output_type": "execute_result"
    }
   ],
   "source": [
    "mydata = pd.read_csv(\"/Users/teodorf/Desktop/Software-Engineering-for-Data-Intesive-AI-Applications/hmeq.csv\")\n",
    "mydata.head()"
   ]
  },
  {
   "cell_type": "code",
   "execution_count": 7,
   "metadata": {},
   "outputs": [],
   "source": [
    "# BAD       1=Client defaulted on loan\n",
    "#           0 = loan repaid\n",
    "# LOAN      Amount of the loan request\n",
    "# MORTDUE   Amount due on existing mortgage\n",
    "# VALUE     Value of current property\n",
    "# REASON    DebtCon = debt consolidation \n",
    "#           HomeImp = home improvement\n",
    "# JOB       Six occupational categories\n",
    "# YOJ       Years at present job\n",
    "# DEROG     Number of major derogatory reports\n",
    "# DELINQ    Number of delinquent credit lines\n",
    "# CLAGE     Age of oldest trade line in months\n",
    "# NINQ      Number of recent credit lines\n",
    "# CLNO      Number of credit lines\n",
    "# DEBTINC   Debt-to-income ratio"
   ]
  },
  {
   "cell_type": "code",
   "execution_count": 8,
   "metadata": {},
   "outputs": [
    {
     "data": {
      "text/html": [
       "<div>\n",
       "<style scoped>\n",
       "    .dataframe tbody tr th:only-of-type {\n",
       "        vertical-align: middle;\n",
       "    }\n",
       "\n",
       "    .dataframe tbody tr th {\n",
       "        vertical-align: top;\n",
       "    }\n",
       "\n",
       "    .dataframe thead th {\n",
       "        text-align: right;\n",
       "    }\n",
       "</style>\n",
       "<table border=\"1\" class=\"dataframe\">\n",
       "  <thead>\n",
       "    <tr style=\"text-align: right;\">\n",
       "      <th></th>\n",
       "      <th>RiskPerformance</th>\n",
       "      <th>LOAN</th>\n",
       "      <th>MORTDUE</th>\n",
       "      <th>VALUE</th>\n",
       "      <th>REASON</th>\n",
       "      <th>JOB</th>\n",
       "      <th>YOJ</th>\n",
       "      <th>DEROG</th>\n",
       "      <th>DELINQ</th>\n",
       "      <th>CLAGE</th>\n",
       "      <th>NINQ</th>\n",
       "      <th>CLNO</th>\n",
       "      <th>DEBTINC</th>\n",
       "    </tr>\n",
       "  </thead>\n",
       "  <tbody>\n",
       "    <tr>\n",
       "      <th>0</th>\n",
       "      <td>1</td>\n",
       "      <td>1100</td>\n",
       "      <td>25860.0</td>\n",
       "      <td>39025.0</td>\n",
       "      <td>HomeImp</td>\n",
       "      <td>Other</td>\n",
       "      <td>10.5</td>\n",
       "      <td>0.0</td>\n",
       "      <td>0.0</td>\n",
       "      <td>94.366667</td>\n",
       "      <td>1.0</td>\n",
       "      <td>9.0</td>\n",
       "      <td>NaN</td>\n",
       "    </tr>\n",
       "    <tr>\n",
       "      <th>1</th>\n",
       "      <td>1</td>\n",
       "      <td>1300</td>\n",
       "      <td>70053.0</td>\n",
       "      <td>68400.0</td>\n",
       "      <td>HomeImp</td>\n",
       "      <td>Other</td>\n",
       "      <td>7.0</td>\n",
       "      <td>0.0</td>\n",
       "      <td>2.0</td>\n",
       "      <td>121.833333</td>\n",
       "      <td>0.0</td>\n",
       "      <td>14.0</td>\n",
       "      <td>NaN</td>\n",
       "    </tr>\n",
       "    <tr>\n",
       "      <th>2</th>\n",
       "      <td>1</td>\n",
       "      <td>1500</td>\n",
       "      <td>13500.0</td>\n",
       "      <td>16700.0</td>\n",
       "      <td>HomeImp</td>\n",
       "      <td>Other</td>\n",
       "      <td>4.0</td>\n",
       "      <td>0.0</td>\n",
       "      <td>0.0</td>\n",
       "      <td>149.466667</td>\n",
       "      <td>1.0</td>\n",
       "      <td>10.0</td>\n",
       "      <td>NaN</td>\n",
       "    </tr>\n",
       "    <tr>\n",
       "      <th>3</th>\n",
       "      <td>1</td>\n",
       "      <td>1500</td>\n",
       "      <td>NaN</td>\n",
       "      <td>NaN</td>\n",
       "      <td>NaN</td>\n",
       "      <td>NaN</td>\n",
       "      <td>NaN</td>\n",
       "      <td>NaN</td>\n",
       "      <td>NaN</td>\n",
       "      <td>NaN</td>\n",
       "      <td>NaN</td>\n",
       "      <td>NaN</td>\n",
       "      <td>NaN</td>\n",
       "    </tr>\n",
       "    <tr>\n",
       "      <th>4</th>\n",
       "      <td>0</td>\n",
       "      <td>1700</td>\n",
       "      <td>97800.0</td>\n",
       "      <td>112000.0</td>\n",
       "      <td>HomeImp</td>\n",
       "      <td>Office</td>\n",
       "      <td>3.0</td>\n",
       "      <td>0.0</td>\n",
       "      <td>0.0</td>\n",
       "      <td>93.333333</td>\n",
       "      <td>0.0</td>\n",
       "      <td>14.0</td>\n",
       "      <td>NaN</td>\n",
       "    </tr>\n",
       "  </tbody>\n",
       "</table>\n",
       "</div>"
      ],
      "text/plain": [
       "   RiskPerformance  LOAN  MORTDUE     VALUE   REASON     JOB   YOJ  DEROG  \\\n",
       "0                1  1100  25860.0   39025.0  HomeImp   Other  10.5    0.0   \n",
       "1                1  1300  70053.0   68400.0  HomeImp   Other   7.0    0.0   \n",
       "2                1  1500  13500.0   16700.0  HomeImp   Other   4.0    0.0   \n",
       "3                1  1500      NaN       NaN      NaN     NaN   NaN    NaN   \n",
       "4                0  1700  97800.0  112000.0  HomeImp  Office   3.0    0.0   \n",
       "\n",
       "   DELINQ       CLAGE  NINQ  CLNO  DEBTINC  \n",
       "0     0.0   94.366667   1.0   9.0      NaN  \n",
       "1     2.0  121.833333   0.0  14.0      NaN  \n",
       "2     0.0  149.466667   1.0  10.0      NaN  \n",
       "3     NaN         NaN   NaN   NaN      NaN  \n",
       "4     0.0   93.333333   0.0  14.0      NaN  "
      ]
     },
     "execution_count": 8,
     "metadata": {},
     "output_type": "execute_result"
    }
   ],
   "source": [
    "# Rename first column and code 1 as BAD\n",
    "mydata.rename(columns={ mydata.columns[0]: \"RiskPerformance\" }, inplace = True)\n",
    "#codes = {1:'Bad', 0:'Good'}\n",
    "#mydata['RiskPerformance'] = mydata['RiskPerformance'].map(codes)\n",
    "mydata.head()"
   ]
  },
  {
   "cell_type": "code",
   "execution_count": 9,
   "metadata": {},
   "outputs": [
    {
     "data": {
      "text/html": [
       "<div>\n",
       "<style scoped>\n",
       "    .dataframe tbody tr th:only-of-type {\n",
       "        vertical-align: middle;\n",
       "    }\n",
       "\n",
       "    .dataframe tbody tr th {\n",
       "        vertical-align: top;\n",
       "    }\n",
       "\n",
       "    .dataframe thead th {\n",
       "        text-align: right;\n",
       "    }\n",
       "</style>\n",
       "<table border=\"1\" class=\"dataframe\">\n",
       "  <thead>\n",
       "    <tr style=\"text-align: right;\">\n",
       "      <th></th>\n",
       "      <th>RiskPerformance</th>\n",
       "      <th>LOAN</th>\n",
       "      <th>MORTDUE</th>\n",
       "      <th>VALUE</th>\n",
       "      <th>YOJ</th>\n",
       "      <th>DEROG</th>\n",
       "      <th>DELINQ</th>\n",
       "      <th>CLAGE</th>\n",
       "      <th>NINQ</th>\n",
       "      <th>CLNO</th>\n",
       "      <th>DEBTINC</th>\n",
       "    </tr>\n",
       "  </thead>\n",
       "  <tbody>\n",
       "    <tr>\n",
       "      <th>count</th>\n",
       "      <td>5960.000000</td>\n",
       "      <td>5960.000000</td>\n",
       "      <td>5442.000000</td>\n",
       "      <td>5848.000000</td>\n",
       "      <td>5445.000000</td>\n",
       "      <td>5252.000000</td>\n",
       "      <td>5380.000000</td>\n",
       "      <td>5652.000000</td>\n",
       "      <td>5450.000000</td>\n",
       "      <td>5738.000000</td>\n",
       "      <td>4693.000000</td>\n",
       "    </tr>\n",
       "    <tr>\n",
       "      <th>mean</th>\n",
       "      <td>0.199497</td>\n",
       "      <td>18607.969799</td>\n",
       "      <td>73760.817200</td>\n",
       "      <td>101776.048741</td>\n",
       "      <td>8.922268</td>\n",
       "      <td>0.254570</td>\n",
       "      <td>0.449442</td>\n",
       "      <td>179.766275</td>\n",
       "      <td>1.186055</td>\n",
       "      <td>21.296096</td>\n",
       "      <td>33.779915</td>\n",
       "    </tr>\n",
       "    <tr>\n",
       "      <th>std</th>\n",
       "      <td>0.399656</td>\n",
       "      <td>11207.480417</td>\n",
       "      <td>44457.609458</td>\n",
       "      <td>57385.775334</td>\n",
       "      <td>7.573982</td>\n",
       "      <td>0.846047</td>\n",
       "      <td>1.127266</td>\n",
       "      <td>85.810092</td>\n",
       "      <td>1.728675</td>\n",
       "      <td>10.138933</td>\n",
       "      <td>8.601746</td>\n",
       "    </tr>\n",
       "    <tr>\n",
       "      <th>min</th>\n",
       "      <td>0.000000</td>\n",
       "      <td>1100.000000</td>\n",
       "      <td>2063.000000</td>\n",
       "      <td>8000.000000</td>\n",
       "      <td>0.000000</td>\n",
       "      <td>0.000000</td>\n",
       "      <td>0.000000</td>\n",
       "      <td>0.000000</td>\n",
       "      <td>0.000000</td>\n",
       "      <td>0.000000</td>\n",
       "      <td>0.524499</td>\n",
       "    </tr>\n",
       "    <tr>\n",
       "      <th>25%</th>\n",
       "      <td>0.000000</td>\n",
       "      <td>11100.000000</td>\n",
       "      <td>46276.000000</td>\n",
       "      <td>66075.500000</td>\n",
       "      <td>3.000000</td>\n",
       "      <td>0.000000</td>\n",
       "      <td>0.000000</td>\n",
       "      <td>115.116702</td>\n",
       "      <td>0.000000</td>\n",
       "      <td>15.000000</td>\n",
       "      <td>29.140031</td>\n",
       "    </tr>\n",
       "    <tr>\n",
       "      <th>50%</th>\n",
       "      <td>0.000000</td>\n",
       "      <td>16300.000000</td>\n",
       "      <td>65019.000000</td>\n",
       "      <td>89235.500000</td>\n",
       "      <td>7.000000</td>\n",
       "      <td>0.000000</td>\n",
       "      <td>0.000000</td>\n",
       "      <td>173.466667</td>\n",
       "      <td>1.000000</td>\n",
       "      <td>20.000000</td>\n",
       "      <td>34.818262</td>\n",
       "    </tr>\n",
       "    <tr>\n",
       "      <th>75%</th>\n",
       "      <td>0.000000</td>\n",
       "      <td>23300.000000</td>\n",
       "      <td>91488.000000</td>\n",
       "      <td>119824.250000</td>\n",
       "      <td>13.000000</td>\n",
       "      <td>0.000000</td>\n",
       "      <td>0.000000</td>\n",
       "      <td>231.562278</td>\n",
       "      <td>2.000000</td>\n",
       "      <td>26.000000</td>\n",
       "      <td>39.003141</td>\n",
       "    </tr>\n",
       "    <tr>\n",
       "      <th>max</th>\n",
       "      <td>1.000000</td>\n",
       "      <td>89900.000000</td>\n",
       "      <td>399550.000000</td>\n",
       "      <td>855909.000000</td>\n",
       "      <td>41.000000</td>\n",
       "      <td>10.000000</td>\n",
       "      <td>15.000000</td>\n",
       "      <td>1168.233561</td>\n",
       "      <td>17.000000</td>\n",
       "      <td>71.000000</td>\n",
       "      <td>203.312149</td>\n",
       "    </tr>\n",
       "  </tbody>\n",
       "</table>\n",
       "</div>"
      ],
      "text/plain": [
       "       RiskPerformance          LOAN        MORTDUE          VALUE  \\\n",
       "count      5960.000000   5960.000000    5442.000000    5848.000000   \n",
       "mean          0.199497  18607.969799   73760.817200  101776.048741   \n",
       "std           0.399656  11207.480417   44457.609458   57385.775334   \n",
       "min           0.000000   1100.000000    2063.000000    8000.000000   \n",
       "25%           0.000000  11100.000000   46276.000000   66075.500000   \n",
       "50%           0.000000  16300.000000   65019.000000   89235.500000   \n",
       "75%           0.000000  23300.000000   91488.000000  119824.250000   \n",
       "max           1.000000  89900.000000  399550.000000  855909.000000   \n",
       "\n",
       "               YOJ        DEROG       DELINQ        CLAGE         NINQ  \\\n",
       "count  5445.000000  5252.000000  5380.000000  5652.000000  5450.000000   \n",
       "mean      8.922268     0.254570     0.449442   179.766275     1.186055   \n",
       "std       7.573982     0.846047     1.127266    85.810092     1.728675   \n",
       "min       0.000000     0.000000     0.000000     0.000000     0.000000   \n",
       "25%       3.000000     0.000000     0.000000   115.116702     0.000000   \n",
       "50%       7.000000     0.000000     0.000000   173.466667     1.000000   \n",
       "75%      13.000000     0.000000     0.000000   231.562278     2.000000   \n",
       "max      41.000000    10.000000    15.000000  1168.233561    17.000000   \n",
       "\n",
       "              CLNO      DEBTINC  \n",
       "count  5738.000000  4693.000000  \n",
       "mean     21.296096    33.779915  \n",
       "std      10.138933     8.601746  \n",
       "min       0.000000     0.524499  \n",
       "25%      15.000000    29.140031  \n",
       "50%      20.000000    34.818262  \n",
       "75%      26.000000    39.003141  \n",
       "max      71.000000   203.312149  "
      ]
     },
     "execution_count": 9,
     "metadata": {},
     "output_type": "execute_result"
    }
   ],
   "source": [
    "# Have a quick look at the variables to see the range and numbers\n",
    "mydata.describe()"
   ]
  },
  {
   "cell_type": "code",
   "execution_count": 10,
   "metadata": {},
   "outputs": [
    {
     "name": "stdout",
     "output_type": "stream",
     "text": [
      "<class 'pandas.core.frame.DataFrame'>\n",
      "RangeIndex: 5960 entries, 0 to 5959\n",
      "Data columns (total 13 columns):\n",
      " #   Column           Non-Null Count  Dtype  \n",
      "---  ------           --------------  -----  \n",
      " 0   RiskPerformance  5960 non-null   int64  \n",
      " 1   LOAN             5960 non-null   int64  \n",
      " 2   MORTDUE          5442 non-null   float64\n",
      " 3   VALUE            5848 non-null   float64\n",
      " 4   REASON           5708 non-null   object \n",
      " 5   JOB              5681 non-null   object \n",
      " 6   YOJ              5445 non-null   float64\n",
      " 7   DEROG            5252 non-null   float64\n",
      " 8   DELINQ           5380 non-null   float64\n",
      " 9   CLAGE            5652 non-null   float64\n",
      " 10  NINQ             5450 non-null   float64\n",
      " 11  CLNO             5738 non-null   float64\n",
      " 12  DEBTINC          4693 non-null   float64\n",
      "dtypes: float64(9), int64(2), object(2)\n",
      "memory usage: 605.4+ KB\n"
     ]
    }
   ],
   "source": [
    "# Check the types to ensure data is interpret correctly\n",
    "mydata.info()"
   ]
  },
  {
   "cell_type": "code",
   "execution_count": 11,
   "metadata": {},
   "outputs": [
    {
     "data": {
      "text/plain": [
       "0    0.800503\n",
       "1    0.199497\n",
       "Name: RiskPerformance, dtype: float64"
      ]
     },
     "execution_count": 11,
     "metadata": {},
     "output_type": "execute_result"
    }
   ],
   "source": [
    "# Note, this dataset is slightly imbalanced, fewer \"Bad\":s than \"Good\":s.\n",
    "# There is a bunch of tricks to deal with imbalance, e.g. upsampling the\n",
    "# minority class or downsampling the majority class. We will not do this here\n",
    "# but we recommend that you are careful if having few positive examples as some \n",
    "# algorithms may not perform well (e.g. DTs). \n",
    "mydata['RiskPerformance'].value_counts()/mydata.shape[0]"
   ]
  },
  {
   "cell_type": "code",
   "execution_count": 12,
   "metadata": {},
   "outputs": [
    {
     "data": {
      "image/png": "[encoded data removed]",
      "text/plain": [
       "<Figure size 1296x1008 with 12 Axes>"
      ]
     },
     "metadata": {
      "needs_background": "light"
     },
     "output_type": "display_data"
    }
   ],
   "source": [
    "%matplotlib inline\n",
    "mydata.hist(figsize=(18, 14),color=\"darkred\")\n",
    "plt.show()"
   ]
  },
  {
   "cell_type": "code",
   "execution_count": 14,
   "metadata": {},
   "outputs": [
    {
     "data": {
      "text/plain": [
       "<matplotlib.axes._subplots.AxesSubplot at 0x1a1f79d210>"
      ]
     },
     "execution_count": 14,
     "metadata": {},
     "output_type": "execute_result"
    },
    {
     "data": {
      "image/png": "[encoded data removed]",
      "text/plain": [
       "<Figure size 432x288 with 1 Axes>"
      ]
     },
     "metadata": {
      "needs_background": "light"
     },
     "output_type": "display_data"
    }
   ],
   "source": [
    "# Can look at a specific \n",
    "mydata[\"YOJ\"].hist(color=\"darkred\")"
   ]
  },
  {
   "cell_type": "code",
   "execution_count": null,
   "metadata": {},
   "outputs": [],
   "source": [
    "idx_missing = mydata.columns[mydata.isna().any()].tolist()\n",
    "msno.matrix(mydata[idx_missing])"
   ]
  },
  {
   "cell_type": "code",
   "execution_count": null,
   "metadata": {},
   "outputs": [],
   "source": [
    "mydata.isnull().sum()"
   ]
  },
  {
   "cell_type": "code",
   "execution_count": null,
   "metadata": {},
   "outputs": [],
   "source": [
    "# DEBTINC has highest amount of missing\n",
    "# It is generally good to check if their is a systematic rel between\n",
    "# \n",
    "mydata['MissingDebtinc'] = mydata['DEBTINC'].isna()\n",
    "mydata.groupby( \"RiskPerformance\" ).agg({'RiskPerformance': 'count', 'MissingDebtinc': 'sum'})"
   ]
  },
  {
   "cell_type": "code",
   "execution_count": null,
   "metadata": {},
   "outputs": [],
   "source": [
    "# We could keep the missingDebinc as a variable in the model, however, \n",
    "# I will in this exercise assume it contains little value\n",
    "del mydata['MissingDebtinc']"
   ]
  },
  {
   "cell_type": "code",
   "execution_count": null,
   "metadata": {},
   "outputs": [],
   "source": [
    "#idx_missing = mydata.columns[mydata.isna().any()].tolist()\n",
    "#msno.matrix(mydata[idx_missing])"
   ]
  },
  {
   "cell_type": "code",
   "execution_count": null,
   "metadata": {},
   "outputs": [],
   "source": [
    "# For this exercise we are going to impute missing values by the column mean\n",
    "mydata.fillna(mydata.mean(), inplace=True)"
   ]
  },
  {
   "cell_type": "code",
   "execution_count": null,
   "metadata": {},
   "outputs": [],
   "source": [
    "mydata.head()"
   ]
  },
  {
   "cell_type": "code",
   "execution_count": null,
   "metadata": {},
   "outputs": [],
   "source": [
    "# Plot boxplots for categorical variables\n",
    "def categoricalVarPlot( mydata, var_name ):\n",
    "    var_count = mydata[ var_name ].value_counts()\n",
    "    sns.set(style=\"darkgrid\")\n",
    "    sns.barplot(var_count.index, var_count.values, alpha=0.9)\n",
    "    plt.ylabel('Frequency', fontsize=14)\n",
    "    plt.xlabel( var_name, fontsize=14)\n",
    "    plt.show()"
   ]
  },
  {
   "cell_type": "code",
   "execution_count": null,
   "metadata": {},
   "outputs": [],
   "source": [
    "categoricalVarPlot( mydata, 'JOB' )"
   ]
  },
  {
   "cell_type": "code",
   "execution_count": null,
   "metadata": {},
   "outputs": [],
   "source": [
    "categoricalVarPlot( mydata, 'REASON' )"
   ]
  },
  {
   "cell_type": "code",
   "execution_count": null,
   "metadata": {},
   "outputs": [],
   "source": [
    "# For the categorical variables use the most frequent occurence.\n",
    "# Note: The simpleImputer applies same strategy to all missing values.\n",
    "#       These are: mean, most_frequent, median and constant.\n",
    "from sklearn.impute import SimpleImputer\n",
    "impute = SimpleImputer(strategy='most_frequent')\n",
    "mydata[['REASON']] = impute.fit_transform(mydata[['REASON']])\n",
    "mydata[['JOB']] = impute.fit_transform(mydata[['JOB']])"
   ]
  },
  {
   "cell_type": "code",
   "execution_count": null,
   "metadata": {},
   "outputs": [],
   "source": [
    "mydata.head()"
   ]
  },
  {
   "cell_type": "code",
   "execution_count": null,
   "metadata": {},
   "outputs": [],
   "source": [
    "# Unfortunately SKlearns ML methods do not handle categorical data directly\n",
    "# Need to convert to 0/1. For nominal data we can use OneHot encodings\n",
    "mydata_onehot = mydata.copy()\n",
    "mydata_onehot = pd.get_dummies(mydata_onehot)\n",
    "mydata_onehot.head()"
   ]
  },
  {
   "cell_type": "code",
   "execution_count": null,
   "metadata": {},
   "outputs": [],
   "source": [
    "# Load common functions including my_corr_plot\n",
    "%run \"c:/Users/DDalevi/Chalmers tutorial/common.py\""
   ]
  },
  {
   "cell_type": "code",
   "execution_count": null,
   "metadata": {},
   "outputs": [],
   "source": [
    "my_corr_plot( mydata )"
   ]
  },
  {
   "cell_type": "code",
   "execution_count": null,
   "metadata": {},
   "outputs": [],
   "source": [
    "# Drop highly correlated variables (more than 0.9)\n",
    "#corr_matrix = corr.abs()\n",
    "#corr_matrix[ (corr_matrix>0.9) & (corr_matrix<1.0) ].dropna(how='all')"
   ]
  },
  {
   "cell_type": "code",
   "execution_count": null,
   "metadata": {},
   "outputs": [],
   "source": [
    "pd.plotting.scatter_matrix( mydata, figsize=(15,10))\n",
    "plt.show()"
   ]
  },
  {
   "cell_type": "code",
   "execution_count": null,
   "metadata": {},
   "outputs": [],
   "source": [
    "# Can also look at any pair\n",
    "# plt.scatter( mydata['MORTDUE'], mydata['LOAN'] )\n",
    "# plt.show()"
   ]
  },
  {
   "cell_type": "code",
   "execution_count": null,
   "metadata": {},
   "outputs": [],
   "source": [
    "#my_corr_plot( mydata )"
   ]
  },
  {
   "cell_type": "code",
   "execution_count": null,
   "metadata": {},
   "outputs": [],
   "source": [
    "# Divide data into y and X\n",
    "y = mydata_onehot['RiskPerformance']\n",
    "X = mydata_onehot.drop(mydata_onehot.columns[0], axis=1)"
   ]
  },
  {
   "cell_type": "code",
   "execution_count": null,
   "metadata": {},
   "outputs": [],
   "source": [
    "print( X.shape )\n",
    "print( y.shape )"
   ]
  },
  {
   "cell_type": "code",
   "execution_count": null,
   "metadata": {
    "scrolled": true
   },
   "outputs": [],
   "source": [
    "# Univariate statistical tests\n",
    "# For regression:     f_regression, mutual_info_regression\n",
    "# For classification: chi2, f_classif, mutual_info_classif\n",
    "# SelectKBest should be used with regression problems, not classification!\n",
    "from sklearn.feature_selection import SelectKBest\n",
    "from sklearn.feature_selection import mutual_info_classif, chi2, f_classif # chi2 not good here!\n",
    "selector = SelectKBest(mutual_info_classif, k=10)\n",
    "selector.fit_transform(X, y)\n",
    "X.columns[ selector.get_support() ]"
   ]
  },
  {
   "cell_type": "code",
   "execution_count": null,
   "metadata": {},
   "outputs": [],
   "source": [
    "# Make function to plot variable importance\n",
    "def variable_importance_plot(scores,X):\n",
    "    # Get the indices sorted by most important to least important\n",
    "    indices = np.argsort(scores)[::-1]\n",
    "    N = X.shape[1]\n",
    "    features = []\n",
    "    for i in range(N):\n",
    "        features.append( X.columns[indices[i]])\n",
    "\n",
    "    # Now plot\n",
    "    plt.figure()\n",
    "    plt.barh(features, scores[indices[range(N)]], color='r', align='center')\n",
    "    plt.gca().invert_yaxis()\n",
    "    plt.show()    "
   ]
  },
  {
   "cell_type": "code",
   "execution_count": null,
   "metadata": {},
   "outputs": [],
   "source": [
    "variable_importance_plot( selector.scores_, X )"
   ]
  },
  {
   "cell_type": "code",
   "execution_count": null,
   "metadata": {},
   "outputs": [],
   "source": [
    "# Split into train and test sets\n",
    "from sklearn.model_selection import train_test_split\n",
    "myseed = 20191015\n",
    "X_train, X_test, y_train, y_test = train_test_split( X, y, test_size=0.25, random_state=myseed)"
   ]
  },
  {
   "cell_type": "code",
   "execution_count": null,
   "metadata": {},
   "outputs": [],
   "source": [
    "# Make a simple model using a Decision Tree\n",
    "# A decision tree (DT) is the building block of a random forest\n",
    "# Doesn't require rescaling of features\n",
    "# DT is an interpretable model\n",
    "# Series of yes/no questions predicting which class a sample belongs to \n",
    "# CART algorithm: Find splits of nodes leading to the greatest reduction in Gini Impurity\n",
    "from sklearn.datasets import load_iris\n",
    "from sklearn import tree\n",
    "clf = tree.DecisionTreeClassifier(max_depth=4)\n",
    "clf = clf.fit(X_train, y_train)"
   ]
  },
  {
   "cell_type": "code",
   "execution_count": null,
   "metadata": {},
   "outputs": [],
   "source": [
    "#help( tree.DecisionTreeClassifier )"
   ]
  },
  {
   "cell_type": "code",
   "execution_count": null,
   "metadata": {},
   "outputs": [],
   "source": [
    "dot_data = tree.export_graphviz(clf, out_file=None) \n",
    "graph = graphviz.Source(dot_data) \n",
    "codes = {1:'Bad', 0:'Good'}\n",
    "target_names=y_train.map( codes ).unique()"
   ]
  },
  {
   "cell_type": "code",
   "execution_count": null,
   "metadata": {},
   "outputs": [],
   "source": [
    "# Visualizing the DT gives us transparency of how the model makes its decisions\n",
    "# Each node shows:\n",
    "# 1. Which rule is used\n",
    "# 2. The average weighted decrease in geni impurity resulting from split\n",
    "# 3. Number of samples \n",
    "# 4. Number of samples of each class (node leaves ideally having a single class)\n",
    "# 5. Class is the prediction class (we can see that majority is picked)\n",
    "dot_data = tree.export_graphviz(clf, out_file=None, \n",
    "                     feature_names=X_train.columns,  \n",
    "                     class_names=sorted(target_names),  \n",
    "                     filled=True, rounded=True,  \n",
    "                     special_characters=True)  \n",
    "graph = graphviz.Source(dot_data)  \n",
    "\n",
    "graph "
   ]
  },
  {
   "cell_type": "code",
   "execution_count": null,
   "metadata": {},
   "outputs": [],
   "source": [
    "#help( tree.export_graphviz )"
   ]
  },
  {
   "cell_type": "code",
   "execution_count": null,
   "metadata": {},
   "outputs": [],
   "source": [
    "# Compute test error\n",
    "from sklearn.metrics import accuracy_score\n",
    "yhat = clf.predict( X_test ) \n",
    "accuracy_score( y_test, yhat )"
   ]
  },
  {
   "cell_type": "code",
   "execution_count": null,
   "metadata": {},
   "outputs": [],
   "source": [
    "# Or simply use built in function\n",
    "print(f'Train Accuracy: {clf.score(X_train, y_train)}')\n",
    "print(f'Test  Accuracy: {clf.score(X_test, y_test)}')"
   ]
  },
  {
   "cell_type": "code",
   "execution_count": null,
   "metadata": {},
   "outputs": [],
   "source": [
    "# Back to train vs test, why do we need to do that?\n",
    "# Let's fit a deep tree.\n",
    "test_deep = tree.DecisionTreeClassifier(max_depth=100)\n",
    "test_deep.fit(X, y)\n",
    "print(f'Model Accuracy: {test_deep.score(X, y)}')"
   ]
  },
  {
   "cell_type": "code",
   "execution_count": null,
   "metadata": {},
   "outputs": [],
   "source": [
    "# We can more or less get the accuracy we want by growing the tree deep enough. \n",
    "# This doesn't generalize well to other datasets (\"Overfitting\"). \n",
    "# Important: A model you train will be applied to data it has not seen before!\n",
    "# High variance: Your model will vary a lot with your training data as it has learned the \"noise\"\n",
    "# We can see this by test/train split\n",
    "test_deep.fit(X_train, y_train)\n",
    "print(f'Train Accuracy: {test_deep.score(X_train, y_train)}')\n",
    "print(f'Test  Accuracy: {test_deep.score(X_test, y_test)}')"
   ]
  },
  {
   "cell_type": "code",
   "execution_count": null,
   "metadata": {},
   "outputs": [],
   "source": [
    "# Note: if you use a too shallow depth, your model will not be flexibel enough\n",
    "#       even to learn the training data\n",
    "# High bias: Model makes too naive assumptions about the data (\"biased preconceived ideas about data\")\n",
    "test_shallow = tree.DecisionTreeClassifier(max_depth=1)\n",
    "test_shallow.fit(X, y)\n",
    "print(f'Model Accuracy: {test_shallow.score(X, y)}')  # Actually not too bad as we have such a good predictor!:)"
   ]
  },
  {
   "cell_type": "code",
   "execution_count": null,
   "metadata": {},
   "outputs": [],
   "source": [
    "# Why accuracy is not enough. E.g. low number of positives, use rule that always predicts neg --> High acc but useless\n",
    "# Confusion matrix\n",
    "# For the first model with depth=4\n",
    "from sklearn.metrics import confusion_matrix\n",
    "cm = confusion_matrix(y_test, yhat)\n",
    "print(cm)"
   ]
  },
  {
   "cell_type": "code",
   "execution_count": null,
   "metadata": {},
   "outputs": [],
   "source": [
    "def plot_confusion(cm, title):\n",
    "    plt.clf()\n",
    "    plt.imshow(cm, interpolation='nearest', cmap=plt.cm.Blues)\n",
    "    classNames = [\"Bad\",\"Good\" ]\n",
    "    plt.title(title)\n",
    "    plt.ylabel('True label')\n",
    "    plt.xlabel('Predicted label')\n",
    "    tick_marks = np.arange(len(classNames))\n",
    "    plt.xticks(tick_marks, classNames, rotation=45)\n",
    "    plt.yticks(tick_marks, classNames)\n",
    "    s = [['TN','FP'], ['FN', 'TP']]\n",
    "    for i in range(2):\n",
    "        for j in range(2):\n",
    "            plt.text( j-0.2,i+0.3-(i)*0.55, str(s[i][j])+\" = \"+str(cm[i][j]), \n",
    "                      bbox=dict(facecolor='white', alpha=0.99))\n",
    "    plt.show()"
   ]
  },
  {
   "cell_type": "code",
   "execution_count": null,
   "metadata": {},
   "outputs": [],
   "source": [
    "plot_confusion(cm, \"Risk Performance (DT)\")"
   ]
  },
  {
   "cell_type": "code",
   "execution_count": null,
   "metadata": {},
   "outputs": [],
   "source": [
    "# Saving a model, e.g. using joblib (also possible to use pickle) \n",
    "from sklearn.externals import joblib\n",
    "joblib.dump( clf, \"my_dt_model.sav\")\n",
    "joblib.dump( X_test, \"X_test.sav\" )\n",
    "joblib.dump( y_test, \"y_test.sav\" )"
   ]
  },
  {
   "cell_type": "code",
   "execution_count": null,
   "metadata": {},
   "outputs": [],
   "source": [
    "# Alternativly use pickle \n",
    "import pickle\n",
    "pickle.dump( clf, open(\"my_dt_model.sav\", 'wb'))\n",
    "pickle.dump( X_test, open(\"X_test.sav\", 'wb'))\n",
    "pickle.dump( y_test, open(\"y_test.sav\", 'wb'))"
   ]
  },
  {
   "cell_type": "code",
   "execution_count": null,
   "metadata": {},
   "outputs": [],
   "source": [
    "# Test loading model in separate notebook, see Tutorial%20-%20use%20existing%20model.ipynb"
   ]
  },
  {
   "cell_type": "code",
   "execution_count": null,
   "metadata": {},
   "outputs": [],
   "source": [
    "# While giving a transparent model that is easy to understand \n",
    "# DT have some limitations:\n",
    "# See, https://scikit-learn.org/stable/modules/tree.html\n",
    "# 1. Ability to completly learn the training data is a downside of DTs. Resulting in overcomplex trees\n",
    "#    that do not generalize well. \n",
    "# 2. May be unstable, small variations in indata my result in completely different trees\n",
    "# 3. Algorithmic issues, \"learning an optimal decision tree is known to be NP-complete \n",
    "#    under several aspects of optimality and even for simple concepts\"\n",
    "# 4. Some concepts are hard to learn as DT do not express them well, e.g. XOR problem\n",
    "# 5. May create biased trees when some classes dominate. May need to balance dataset prior to fitting."
   ]
  },
  {
   "cell_type": "code",
   "execution_count": null,
   "metadata": {},
   "outputs": [],
   "source": [
    "# Random forest built of many DTs. \n",
    "# Each tree is built from a random sample of the data (with replacement)\n",
    "# Only a subset of the features is used for splitting a node (e.g. BMI, Blood pressure,...)\n",
    "# Predictions are made by averaging over the the individual predictions\n",
    "# Bagging = Bootstrap aggregation\n",
    "# \n",
    "# Each tree has high variance (overfit) and low bias. combining \n",
    "# Fit model:\n",
    "from sklearn.ensemble import RandomForestClassifier\n",
    "rnd_clf = RandomForestClassifier(n_estimators=500, n_jobs=-1, random_state=20191917)\n",
    "rnd_clf.fit(X_train, y_train)"
   ]
  },
  {
   "cell_type": "code",
   "execution_count": null,
   "metadata": {},
   "outputs": [],
   "source": [
    "# Random forest can give you the variable importance directly\n",
    "# Works using how ... predict Out of sample... (ADD EXPLANATION)\n",
    "# for name, importance in zip(X.columns, rnd_clf.feature_importances_):\n",
    "#    print(name, \"=\", importance)\n",
    "variable_importance_plot( rnd_clf.feature_importances_, X )"
   ]
  },
  {
   "cell_type": "code",
   "execution_count": null,
   "metadata": {},
   "outputs": [],
   "source": [
    "print(f'Train Accuracy: {rnd_clf.score(X_train, y_train)}')\n",
    "print(f'Test  Accuracy: {rnd_clf.score(X_test, y_test)}')"
   ]
  },
  {
   "cell_type": "code",
   "execution_count": null,
   "metadata": {},
   "outputs": [],
   "source": [
    "rnd_yhat = rnd_clf.predict( X_test ) \n",
    "rnd_cm = confusion_matrix( y_test, rnd_yhat )\n",
    "plot_confusion(rnd_cm, \"Risk Performance (RF)\" )"
   ]
  },
  {
   "cell_type": "code",
   "execution_count": null,
   "metadata": {},
   "outputs": [],
   "source": [
    "# Sometimes it can be good to look at the predictions to see what is output\n",
    "vlx = pd.DataFrame( { 'predictions': rnd_yhat, 'observations': y_test } )\n",
    "vlx.to_csv( \"vlx.csv\", sep=\";\" )"
   ]
  },
  {
   "cell_type": "code",
   "execution_count": null,
   "metadata": {},
   "outputs": [],
   "source": [
    "# Optimization. If not performing well, there are a few things that can be considered.\n",
    "# 1. In general, best approach is to see if we can gather more data and/or features. \n",
    "# When not possible, we need to turn to model hyperparameter tuning.\n",
    "# Model parameters are learned during training, hyperparameters need to be defined before...\n",
    "# RF hyperparameters: \n",
    "# i. Number of trees(n_estimators)\n",
    "# ii. Number of features considered by each tree when splitting a node (max_features)\n",
    "# iii. Max number of levels in each decision tree (max_depth)\n",
    "# There are a few more, see documentation (e.g. min_samples_split, min_samples_leaf, bootstrap)\n",
    "# Read about tuning here:\n",
    "# https://towardsdatascience.com/hyperparameter-tuning-the-random-forest-in-python-using-scikit-learn-28d2aa77dd74\n",
    "# Model tuning with K-Fold CV can be automatically implemented in Scikit-Learn\n",
    "#\n",
    "# Gridsearch for best hyperparameters\n",
    "\n",
    "from sklearn.model_selection import RandomizedSearchCV\n",
    "n_estimators = [int(x) for x in np.linspace(start = 200, stop = 2000, num = 10)]\n",
    "max_features = ['auto', 'sqrt']\n",
    "max_depth = [int(x) for x in np.linspace(10, 110, num = 11)]\n",
    "max_depth.append(None)\n",
    "min_samples_split = [2, 5, 10]\n",
    "min_samples_leaf = [1, 2, 4]\n",
    "bootstrap = [True, False]\n",
    "random_grid = {'n_estimators': n_estimators,\n",
    "               'max_features': max_features,\n",
    "               'max_depth': max_depth,\n",
    "               'min_samples_split': min_samples_split,\n",
    "               'min_samples_leaf': min_samples_leaf,\n",
    "               'bootstrap': bootstrap}\n",
    "\n",
    "rf = RandomForestClassifier() \n",
    "rf_random = RandomizedSearchCV(estimator = rf, param_distributions = random_grid, \n",
    "                               n_iter = 100, cv = 3, verbose=2, random_state=42, n_jobs = -1)\n",
    "# Fit the random search model\n",
    "rf_random.fit( X_train, y_train )"
   ]
  },
  {
   "cell_type": "code",
   "execution_count": null,
   "metadata": {},
   "outputs": [],
   "source": [
    "# Utility function to report best scores\n",
    "def report(results, n_top=3):\n",
    "    for i in range(1, n_top + 1):\n",
    "        candidates = np.flatnonzero(results['rank_test_score'] == i)\n",
    "        for candidate in candidates:\n",
    "            print(\"Model with rank: {0}\".format(i))\n",
    "            print(\"Mean validation score: {0:.3f} (std: {1:.3f})\".format(\n",
    "                  results['mean_test_score'][candidate],\n",
    "                  results['std_test_score'][candidate]))\n",
    "            print(\"Parameters: {0}\".format(results['params'][candidate]))\n",
    "            print(\"\")\n",
    "\n",
    "report(rf_random.cv_results_)"
   ]
  },
  {
   "cell_type": "code",
   "execution_count": null,
   "metadata": {},
   "outputs": [],
   "source": [
    "rnds_yhat = rf_random.predict( X_test ) \n",
    "rnds_cm = confusion_matrix( y_test, rnds_yhat )\n",
    "plot_confusion(rnds_cm, \"Risk Performance (RF)\" )"
   ]
  },
  {
   "cell_type": "code",
   "execution_count": null,
   "metadata": {},
   "outputs": [],
   "source": [
    "# For the proceeding methods let's rescale the features (x-mean)/sd\n",
    "from sklearn.preprocessing import StandardScaler\n",
    "numeric_cols = X_train.columns[0:10]\n",
    "X_test_sc = X_test.copy()\n",
    "X_train_sc = X_train.copy() \n",
    "\n",
    "X_test_sc[ numeric_cols ] = StandardScaler().fit_transform( X_test[ numeric_cols ] )\n",
    "X_train_sc[ numeric_cols ] = StandardScaler().fit_transform( X_train[ numeric_cols ] )"
   ]
  },
  {
   "cell_type": "code",
   "execution_count": null,
   "metadata": {},
   "outputs": [],
   "source": [
    "# Logistic regression \n",
    "from sklearn.linear_model import LogisticRegression\n",
    "lg_clf = LogisticRegression(random_state=0, solver='lbfgs',\n",
    "                            multi_class='ovr')\n",
    "lg_clf.fit(X_train_sc, y_train)"
   ]
  },
  {
   "cell_type": "code",
   "execution_count": null,
   "metadata": {},
   "outputs": [],
   "source": [
    "print(f'Train Accuracy: {lg_clf.score(X_train_sc, y_train)}')\n",
    "print(f'Test  Accuracy: {lg_clf.score(X_test_sc, y_test)}')"
   ]
  },
  {
   "cell_type": "code",
   "execution_count": null,
   "metadata": {},
   "outputs": [],
   "source": [
    "lg_yhat = lg_clf.predict( X_test_sc ) \n",
    "lg_cm = confusion_matrix( y_test, lg_yhat )\n",
    "plot_confusion( lg_cm, \"Risk Performance (RF)\" )"
   ]
  },
  {
   "cell_type": "code",
   "execution_count": null,
   "metadata": {},
   "outputs": [],
   "source": [
    "# There is also a CV version that we be explored\n",
    "from sklearn.linear_model import LogisticRegressionCV\n",
    "lgcv_clf = LogisticRegressionCV(cv=5, random_state=0, multi_class='ovr')\n",
    "lgcv_clf.fit( X_train_sc, y_train )\n",
    "print(f'Train Accuracy: {lgcv_clf.score(X_train_sc, y_train)}')\n",
    "print(f'Test  Accuracy: {lgcv_clf.score(X_test_sc, y_test)}')\n",
    "lgcv_yhat = lgcv_clf.predict( X_test_sc ) \n",
    "lgcv_cm = confusion_matrix( y_test, lgcv_yhat )\n",
    "plot_confusion( lgcv_cm, \"Risk Performance (RF)\" )"
   ]
  },
  {
   "cell_type": "code",
   "execution_count": null,
   "metadata": {},
   "outputs": [],
   "source": [
    "# Pipelines 1: Gridsearch demonstration"
   ]
  },
  {
   "cell_type": "code",
   "execution_count": null,
   "metadata": {},
   "outputs": [],
   "source": [
    "# Create a simple gridsearch on a pipeline consisting on a selector and a logistic regression model\n",
    "# Define a pipeline to search for the best combination of PCA truncation\n",
    "# and classifier regularization.\n",
    "\n",
    "from sklearn.linear_model import SGDClassifier\n",
    "from sklearn.pipeline import Pipeline\n",
    "from sklearn.model_selection import GridSearchCV\n",
    "\n",
    "logistic = SGDClassifier(loss='log', penalty='l2', early_stopping=True,\n",
    "                         max_iter=10000, tol=1e-5, random_state=0)\n",
    "selector = SelectKBest(mutual_info_classif)\n",
    "pipe = Pipeline(steps=[('selector', selector), ('logistic', logistic)])"
   ]
  },
  {
   "cell_type": "code",
   "execution_count": null,
   "metadata": {},
   "outputs": [],
   "source": [
    "# Parameters of pipelines can be set using ‘__’ separated parameter names:\n",
    "param_grid = {\n",
    "    'selector__k': [2,3,4,5,10,15],\n",
    "    'logistic__alpha': np.logspace(-4, 4, 5),\n",
    "}\n",
    "search = GridSearchCV(pipe, param_grid, iid=False, verbose=1, cv=5 ) # K-fold CV, 4 used for fit and 1 for validation\n",
    "search.fit(X_train, y_train)\n",
    "print(\"Best parameter (CV score=%0.3f):\" % search.best_score_)\n",
    "print(search.best_params_)"
   ]
  },
  {
   "cell_type": "code",
   "execution_count": null,
   "metadata": {},
   "outputs": [],
   "source": [
    "# For each number of components, find the best classifier results\n",
    "results = pd.DataFrame(search.cv_results_)\n",
    "components_col = 'param_selector__k' \n",
    "best_clfs = results.groupby(components_col).apply(\n",
    "    lambda g: g.nlargest(1, 'mean_test_score'))\n",
    "\n",
    "best_clfs.plot(x=components_col, y='mean_test_score', yerr='std_test_score',\n",
    "               legend=False)\n",
    "plt.xlabel('Included number of predictors [k]')\n",
    "plt.ylabel('Classification accuracy')\n",
    "plt.tight_layout()\n",
    "plt.show()"
   ]
  },
  {
   "cell_type": "code",
   "execution_count": null,
   "metadata": {},
   "outputs": [],
   "source": [
    "# Pipeline 2: Fit several models with the same preprocessing step \n",
    "from sklearn.decomposition import PCA\n",
    "from sklearn.preprocessing import StandardScaler\n",
    "from sklearn.pipeline import FeatureUnion\n",
    "from sklearn.svm import SVC\n",
    "from sklearn.linear_model import LogisticRegression\n",
    "pca_components = PCA() \n",
    "std_scaler = StandardScaler()\n",
    "preprocess = FeatureUnion([(\"std\",std_scaler), (\"pca\", pca_components)])\n",
    "# Create a pipeline\n",
    "pipe = Pipeline([(\"classifier\", LogisticRegression())])\n",
    "search_space = [\n",
    "            {\"classifier\": [LogisticRegression()],\n",
    "             \"classifier__penalty\": ['l2','l1'],\n",
    "             \"classifier__C\": np.logspace(0, 4, 10)\n",
    "             },\n",
    "            {\"classifier\": [RandomForestClassifier()],\n",
    "             \"classifier__n_estimators\": [10, 100],\n",
    "             \"classifier__max_depth\":[5,8,15,None],\n",
    "             \"classifier__min_samples_leaf\":[1,2,5],\n",
    "             \"classifier__max_leaf_nodes\": [2,10]\n",
    "             },\n",
    "             {\"classifier\": [SVC()],\n",
    "             \"classifier__C\": [0.1,1,10],\n",
    "             \"classifier__kernel\":['linear','rbf','sigmoid']\n",
    "            }]\n",
    "\n",
    "gridsearch = GridSearchCV(pipe, search_space, cv=5, verbose=1,n_jobs=-1) # Fit grid search\n",
    "best_model = gridsearch.fit(X_train,y_train)"
   ]
  },
  {
   "cell_type": "code",
   "execution_count": null,
   "metadata": {},
   "outputs": [],
   "source": [
    "from sklearn import metrics\n",
    "predictions = best_model.predict(X_train)\n",
    "sum( predictions == y_train )/7844"
   ]
  },
  {
   "cell_type": "code",
   "execution_count": null,
   "metadata": {},
   "outputs": [],
   "source": [
    "predictions = best_model.predict(X_test)\n",
    "sum( predictions == y_test )/7844"
   ]
  },
  {
   "cell_type": "code",
   "execution_count": null,
   "metadata": {},
   "outputs": [],
   "source": [
    "print(best_model.best_estimator_)"
   ]
  },
  {
   "cell_type": "code",
   "execution_count": null,
   "metadata": {},
   "outputs": [],
   "source": [
    "scores_mean = cv_results['mean_test_score']\n",
    "scores_sd   = cv_results['std_test_score']"
   ]
  },
  {
   "cell_type": "code",
   "execution_count": null,
   "metadata": {},
   "outputs": [],
   "source": [
    "# For each number of components, find the best classifier results\n",
    "results = pd.DataFrame(gridsearch.cv_results_)\n",
    "components_col = 'param_classifier__kernel' \n",
    "best_clfs = results.groupby(components_col).apply(\n",
    "    lambda g: g.nlargest(1, 'mean_test_score'))\n",
    "best_clfs.plot(x=components_col, y='mean_test_score', yerr='std_test_score',\n",
    "               legend=False)\n",
    "plt.xlabel('Kernal')\n",
    "plt.ylabel('Classification accuracy')\n",
    "plt.tight_layout()\n",
    "plt.show()"
   ]
  },
  {
   "cell_type": "code",
   "execution_count": null,
   "metadata": {},
   "outputs": [],
   "source": [
    "results = pd.DataFrame(gridsearch.cv_results_)"
   ]
  },
  {
   "cell_type": "code",
   "execution_count": null,
   "metadata": {},
   "outputs": [],
   "source": [
    "results"
   ]
  }
 ],
 "metadata": {
  "kernelspec": {
   "display_name": "Python 3",
   "language": "python",
   "name": "python3"
  },
  "language_info": {
   "codemirror_mode": {
    "name": "ipython",
    "version": 3
   },
   "file_extension": ".py",
   "mimetype": "text/x-python",
   "name": "python",
   "nbconvert_exporter": "python",
   "pygments_lexer": "ipython3",
   "version": "3.7.6"
  }
 },
 "nbformat": 4,
 "nbformat_minor": 4
}
